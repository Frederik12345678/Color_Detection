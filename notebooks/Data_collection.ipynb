{
 "cells": [
  {
   "cell_type": "code",
   "execution_count": 8,
   "metadata": {},
   "outputs": [
    {
     "name": "stdout",
     "output_type": "stream",
     "text": [
      "(891, 5)\n"
     ]
    }
   ],
   "source": [
    "import pandas as pd\n",
    "import ssl\n",
    "ssl._create_default_https_context = ssl._create_unverified_context\n",
    "\n",
    "# Wikipedia URL\n",
    "url_1 = \"https://en.wikipedia.org/wiki/List_of_colors:_A-F\"  # Replace with your desired Wikipedia page\n",
    "url_2 = \"https://en.wikipedia.org/wiki/List_of_colors:_G-M\"\n",
    "url_3 = \"https://en.wikipedia.org/wiki/List_of_colors:_N-Z\"\n",
    "\n",
    "\n",
    "# Read all tables from the page\n",
    "tables_1 = pd.read_html(url_1)\n",
    "tables_2 = pd.read_html(url_2)\n",
    "tables_3 = pd.read_html(url_3)\n",
    "# Display the first table (or choose the correct one)\n",
    "df_1 = tables_1[0]  # Wikipedia pages often have multiple tables\n",
    "df_2 = tables_2[0]\n",
    "df_3 = tables_3[0]\n",
    "\n",
    "data_1 = df_1.iloc[1:, 1:6]\n",
    "data_2 = df_2.iloc[1:, 1:6]\n",
    "data_3 = df_3.iloc[1:, 1:6]\n",
    "\n",
    "\n",
    "merged_df = pd.concat([data_1, data_2, data_3], ignore_index=True)\n",
    "\n",
    "# Show merged data\n",
    "print(merged_df.shape)"
   ]
  },
  {
   "cell_type": "code",
   "execution_count": 9,
   "metadata": {},
   "outputs": [],
   "source": [
    "merged_df.to_csv('merged_data.csv', index=False)"
   ]
  }
 ],
 "metadata": {
  "kernelspec": {
   "display_name": "Python 3",
   "language": "python",
   "name": "python3"
  },
  "language_info": {
   "codemirror_mode": {
    "name": "ipython",
    "version": 3
   },
   "file_extension": ".py",
   "mimetype": "text/x-python",
   "name": "python",
   "nbconvert_exporter": "python",
   "pygments_lexer": "ipython3",
   "version": "3.10.6"
  }
 },
 "nbformat": 4,
 "nbformat_minor": 2
}
